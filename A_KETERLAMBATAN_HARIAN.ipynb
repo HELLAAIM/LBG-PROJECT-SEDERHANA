{
  "nbformat": 4,
  "nbformat_minor": 0,
  "metadata": {
    "colab": {
      "provenance": [],
      "include_colab_link": true
    },
    "kernelspec": {
      "name": "python3",
      "display_name": "Python 3"
    },
    "language_info": {
      "name": "python"
    }
  },
  "cells": [
    {
      "cell_type": "markdown",
      "metadata": {
        "id": "view-in-github",
        "colab_type": "text"
      },
      "source": [
        "<a href=\"https://colab.research.google.com/github/HELLAAIM/LBG-PROJECT-SEDERHANA/blob/main/A_KETERLAMBATAN_HARIAN.ipynb\" target=\"_parent\"><img src=\"https://colab.research.google.com/assets/colab-badge.svg\" alt=\"Open In Colab\"/></a>"
      ]
    },
    {
      "cell_type": "code",
      "source": [
        "import pandas as pd\n",
        "from openpyxl import load_workbook"
      ],
      "metadata": {
        "id": "g3N-PaDFh1q7"
      },
      "execution_count": null,
      "outputs": []
    },
    {
      "cell_type": "code",
      "source": [
        "from google.colab import files\n",
        "uploaded = files.upload()\n",
        "file_name = list(uploaded.keys())[0]"
      ],
      "metadata": {
        "id": "-U0bYwz8h8DI"
      },
      "execution_count": null,
      "outputs": []
    },
    {
      "cell_type": "code",
      "source": [
        "sheet_name=\"291124\"\n",
        "df = pd.read_excel(file_name)\n",
        "df = df.fillna('-')\n",
        "df"
      ],
      "metadata": {
        "id": "4oYSBE7ih9xJ"
      },
      "execution_count": null,
      "outputs": []
    },
    {
      "cell_type": "code",
      "execution_count": null,
      "metadata": {
        "id": "B8wl2WTBhs3Q"
      },
      "outputs": [],
      "source": [
        "# Dataframe 'df' yang sudah ada sebelumnya\n",
        "# Mendefinisikan list dari kondisi yang harus diproses\n",
        "conditions = [\n",
        "    {\"filter\": df['Branch'] == 'THE CABIN CAFE', \"file_path\": \"/content/drive/MyDrive/KETERLAMBATAN/A. Harian Keterlambatan/A PERBAGIAN/7A. CABIN.xlsx\", \"bagian\":\"CABIN\"},\n",
        "    {\"filter\": df['Branch'] == 'KOPERASI MANDIRI SEJAHTERA', \"file_path\": \"/content/drive/MyDrive/KETERLAMBATAN/A. Harian Keterlambatan/A PERBAGIAN/7A. KMS.xlsx\", \"bagian\":\"KMS\"},\n",
        "    {\"filter\": df['Branch'] == 'PT PALMAS PRIMA INDONESIA', \"file_path\": \"/content/drive/MyDrive/KETERLAMBATAN/A. Harian Keterlambatan/A PERBAGIAN/7A. PALMAS.xlsx\", \"bagian\":\"PALMAS\"},\n",
        "    {\"filter\": df['Organization'].str.contains('ICT') & ~df['Employee ID'].isin(['Am.112', 'Ac.116']), \"file_path\": \"/content/drive/MyDrive/KETERLAMBATAN/A. Harian Keterlambatan/A PERBAGIAN/7A. ICT.xlsx\", \"bagian\":\"ICT ALL NON LINUS\"},\n",
        "    {\"filter\": df['Organization'].str.contains('ICT') & df['Employee ID'].isin(['Am.112', 'Ac.116']), \"file_path\": \"/content/drive/MyDrive/KETERLAMBATAN/A. Harian Keterlambatan/A PERBAGIAN/7A. ICT LINUS.xlsx\", \"bagian\":\"ICT LINUS\"},\n",
        "    {\"filter\": df['Branch'].str.contains('CV LIDAH BUAYA') | (df['Organization'] == 'LEGAL'), \"file_path\": \"/content/drive/MyDrive/KETERLAMBATAN/A. Harian Keterlambatan/A PERBAGIAN/7A. LB.xlsx\", \"bagian\":\"LB\"},\n",
        "    {\"filter\": (df['Branch'] != 'PT LINTAS USAHATAMA TRANS') & (df['Organization'] == 'GENERAL AFFAIR') & (df['Job Position'] != 'DRIVER MHE (1)'), \"file_path\": \"/content/drive/MyDrive/KETERLAMBATAN/A. Harian Keterlambatan/A PERBAGIAN/7A. GENERAL AFFAIR.xlsx\" , \"bagian\":\"GA\"},\n",
        "    {\"filter\": (df['Branch'] == 'PT LINTAS USAHATAMA TRANS') | (df['Organization'] == 'GENERAL AFFAIR') | (df['Job Position'] == 'DRIVER'), \"file_path\": \"/content/drive/MyDrive/KETERLAMBATAN/A. Harian Keterlambatan/A PERBAGIAN/7A. LINUS + DRIVER MHE.xlsx\", \"bagian\":\"LINUS + DRIVER (shullte) + DRIVER MHE\"},\n",
        "    {\"filter\": df['Organization'].isin(['BACK OFFICE ADMINSTRATION', 'SALES','SALES EXPORT & B2B','SALES & MARKETING','MARKETING']), \"file_path\": \"/content/drive/MyDrive/KETERLAMBATAN/A. Harian Keterlambatan/A PERBAGIAN/7A. SALES & MARKETING + BOA.xlsx\", \"bagian\":\"SALES + MARKETING + BOA\"},\n",
        "    {\"filter\": df['Organization'].isin(['FINANCE', 'ACCOUNTING & TAX']), \"file_path\": \"/content/drive/MyDrive/KETERLAMBATAN/A. Harian Keterlambatan/A PERBAGIAN/7A. FINANCE + ACCOUNTING & TAX.xlsx\", \"bagian\":\"FINANCE ACCOUNTING TAX\" },\n",
        "    {\"filter\": df['Branch'] == 'PT THERMOPAK KARYA INDONESIA' , \"file_path\": \"/content/drive/MyDrive/KETERLAMBATAN/A. Harian Keterlambatan/A PERBAGIAN/7A. TKI.xlsx\", \"bagian\":\"TKI\"},\n",
        "    {\"filter\": df['Employee ID'].isin(['Ku.002', 'Ca.058', 'Mu.830']), \"file_path\": \"/content/drive/MyDrive/KETERLAMBATAN/A. Harian Keterlambatan/A PERBAGIAN/7A. GM (BU KUSUMASTUTI, CAROLINE, MUH ZAE).xlsx\", \"bagian\":\"GM\"},\n",
        "    {\"filter\": df['Organization'] == 'WORKSHOP', \"file_path\": \"/content/drive/MyDrive/KETERLAMBATAN/A. Harian Keterlambatan/A PERBAGIAN/7A. WORKSHOP.xlsx\", \"bagian\":\"WORKSHOP\"},\n",
        "    {\"filter\": df['Organization'].str.contains('WAREHOUSE'), \"file_path\": \"/content/drive/MyDrive/KETERLAMBATAN/A. Harian Keterlambatan/A PERBAGIAN/7A. WAREHOUSE.xlsx\", \"bagian\":\"WAREHOUSE\"},\n",
        "    {\"filter\": df['Organization'].str.contains('PPIC'), \"file_path\": \"/content/drive/MyDrive/KETERLAMBATAN/A. Harian Keterlambatan/A PERBAGIAN/7A. PPIC.xlsx\", \"bagian\":\"PPIC\"},\n",
        "    {\"filter\": df['Organization'] == 'LOGISTIC', \"file_path\": \"/content/drive/MyDrive/KETERLAMBATAN/A. Harian Keterlambatan/A PERBAGIAN/7A. LOGISTIC.xlsx\", \"bagian\":\"LOGISTIC\"},\n",
        "    {\"filter\": df['Organization'] == 'PURCHASING', \"file_path\": \"/content/drive/MyDrive/KETERLAMBATAN/A. Harian Keterlambatan/A PERBAGIAN/7A. PURCHASING.xlsx\", \"bagian\":\"PURCHASING\"},\n",
        "    {\"filter\": df['Organization'] == 'INTERNAL AUDIT', \"file_path\": \"/content/drive/MyDrive/KETERLAMBATAN/A. Harian Keterlambatan/A PERBAGIAN/7A. INTERNAL AUDIT.xlsx\", \"bagian\":\"INTERNAL AUDIT\"},\n",
        "    {\"filter\": df['Organization'] == 'MAINTENANCE PLANT B', \"file_path\": \"/content/drive/MyDrive/KETERLAMBATAN/A. Harian Keterlambatan/A PERBAGIAN/7A. MKNK B.xlsx\", \"bagian\":\"MKNK B\"},\n",
        "    {\"filter\": df['Organization'] == 'COMPENSATION & BENEFIT', \"file_path\":\"/content/drive/MyDrive/KETERLAMBATAN/A. Harian Keterlambatan/A PERBAGIAN/7A. HRD C&B PAYROLL.xlsx\" , \"bagian\":\"HRD PAYROLL\"},\n",
        "    {\"filter\": df['Organization'].isin(['OD & LEARNING', 'RECRUITMENT']), \"file_path\": \"/content/drive/MyDrive/KETERLAMBATAN/A. Harian Keterlambatan/A PERBAGIAN/7A. HRD RECRUITMEN & OD.xlsx\" , \"bagian\":\"HRD RECRUITMENT + OD\"},\n",
        "    {\"filter\": df['Organization'].isin(['BOARD OF DIRECTOR', 'HR ADMINISTRATION & IR','STRATEGIC MANAGEMENT OFFICE']), \"file_path\": \"/content/drive/MyDrive/KETERLAMBATAN/A. Harian Keterlambatan/A PERBAGIAN/7A. HRD + SECRETARY + SOM.xlsx\", \"bagian\":\"HRD ADMIN + MANAGEMENT\"},\n",
        "    {\"filter\": df['Organization'].str.contains('PLANT B'), \"file_path\": \"/content/drive/MyDrive/KETERLAMBATAN/A. Harian Keterlambatan/A PERBAGIAN/7A. PLANT B + QC.xlsx\" , \"bagian\":\"PLANT B\"},\n",
        "    {\"filter\": df['Organization'].str.contains('PLANT G'), \"file_path\": \"/content/drive/MyDrive/KETERLAMBATAN/A. Harian Keterlambatan/A PERBAGIAN/7A. PLANT G + MKNK + QC.xlsx\" , \"bagian\":\"PLANT G\"},\n",
        "    {\"filter\": df['Organization'].str.contains('PLANT F'), \"file_path\": \"/content/drive/MyDrive/KETERLAMBATAN/A. Harian Keterlambatan/A PERBAGIAN/7A. PLANT F + MKNK.xlsx\" , \"bagian\":\"PLANT F\"},\n",
        "    {\"filter\": df['Organization'].isin(['MAINTENANCE PLANT E', 'PLANT E', 'QC PLANT E']), \"file_path\": \"/content/drive/MyDrive/KETERLAMBATAN/A. Harian Keterlambatan/A PERBAGIAN/7A. PLANT E + MKNK + QC.xlsx\" , \"bagian\":\"PLANT E\"},\n",
        "    {\"filter\": df['Organization'].str.contains('PLANT A') | (df['Employee ID'] == 'Da.018') | (df['Organization'].str.contains('PRINTING')), \"file_path\": \"/content/drive/MyDrive/KETERLAMBATAN/A. Harian Keterlambatan/A PERBAGIAN/7A. PLANT A + QC + R&D KOTA + MKNK.xlsx\", \"bagian\":\"PLANT A\"},\n",
        "    {\"filter\": df['Organization'] != '-', \"file_path\": \"/content/drive/MyDrive/KETERLAMBATAN/A. Harian Keterlambatan/A PERBAGIAN/7A. PLANT CD + MKNK + QC + R&D KAB.xlsx\" , \"bagian\":\"PLANT CD\"}\n",
        "]\n",
        "\n",
        "# Proses perulangan berdasarkan kondisi\n",
        "for condition in conditions:\n",
        "    # Filter data sesuai kondisi\n",
        "    data_filtered = df[condition[\"filter\"]]\n",
        "\n",
        "    # Path file\n",
        "    file_path = condition[\"file_path\"]\n",
        "    bagian = condition[\"bagian\"]\n",
        "    try:\n",
        "        # Menulis data ke file Excel\n",
        "        with pd.ExcelWriter(file_path, engine=\"openpyxl\", mode=\"a\") as writer:\n",
        "            data_filtered.to_excel(writer, sheet_name=sheet_name, index=False)\n",
        "        print(f\"Sheet baru berhasil ditambahkan ke {bagian}!\")\n",
        "\n",
        "        # Menghapus data yang sudah ditulis\n",
        "        index_to_drop = data_filtered.index\n",
        "        df = df.drop(index_to_drop)\n",
        "\n",
        "    except Exception as e:\n",
        "        print(f\"Gagal menambahkan sheet baru ke {bagian}!\")\n",
        "        print(f\"Error: {e}\")"
      ]
    },
    {
      "cell_type": "markdown",
      "source": [
        "\n",
        "Berikut adalah penjelasan detail mengenai script yang diberikan:\n",
        "\n",
        "Tujuan Umum\n",
        "Script ini bertujuan untuk:\n",
        "* Membagi data pada DataFrame df berdasarkan kriteria tertentu.\n",
        "* Menyimpan data yang sesuai dengan kriteria tersebut ke file Excel masing-masing dengan lokasi yang telah ditentukan.\n",
        "* Menghapus data yang sudah diproses dari DataFrame df.\n",
        "\n",
        "Penjelasan Tiap Bagian\n",
        "1. Import Library\n",
        "```\n",
        "import pandas as pd\n",
        "from openpyxl import load_workbook\n",
        "```\n",
        "* pandas: Digunakan untuk memproses data dalam bentuk DataFrame.\n",
        "* openpyxl: Library untuk memodifikasi file Excel, terutama ketika menambahkan data pada file Excel yang sudah ada.\n",
        "\n",
        "2. Unggah File ke Google Colab\n",
        "```\n",
        "from google.colab import files\n",
        "uploaded = files.upload()\n",
        "file_name = list(uploaded.keys())[0]\n",
        "```\n",
        "Script ini digunakan di Google Colab untuk mengunggah file Excel yang akan diolah.\n",
        "\n",
        "3. List Kondisi untuk Pemrosesan Data\n",
        "```\n",
        "conditions = [\n",
        "    {\"filter\": df['Branch'] == 'THE CABIN CAFE', \"file_path\": \"...\", \"bagian\": \"CABIN\"},\n",
        "    ...\n",
        "]\n",
        "```\n",
        "conditions adalah list dari beberapa dictionary, di mana setiap dictionary mendefinisikan:\n",
        "* Filter: Kriteria penyaringan data menggunakan kolom tertentu dari df.\n",
        "* file_path: Lokasi file Excel tempat data hasil filter akan disimpan.\n",
        "* bagian: Nama bagian yang terkait dengan data tersebut.\n",
        "\n",
        "Contoh kondisi:\n",
        "* Data dari cabang \"THE CABIN CAFE\" akan difilter dan disimpan ke file Excel dengan path 7A. CABIN.xlsx.\n",
        "\n",
        "4. Proses Perulangan\n",
        "```\n",
        "for condition in conditions:\n",
        "    data_filtered = df[condition[\"filter\"]]\n",
        "    file_path = condition[\"file_path\"]\n",
        "    bagian = condition[\"bagian\"]\n",
        "```\n",
        "* Looping: Iterasi melalui setiap kondisi yang ada di list conditions.\n",
        "* data_filtered: Data yang memenuhi kondisi filter tertentu.\n",
        "* file_path dan bagian: Lokasi file Excel dan nama bagian yang sesuai dengan filter.\n",
        "\n",
        "5. Menulis Data ke File Excel\n",
        "```\n",
        "with pd.ExcelWriter(file_path, engine=\"openpyxl\", mode=\"a\") as writer:\n",
        "    data_filtered.to_excel(writer, sheet_name=sheet_name, index=False)\n",
        "```\n",
        "Membuka file Excel yang sudah ada dalam mode append (mode=\"a\").\n",
        "Menambahkan data yang sudah difilter ke dalam sheet baru sesuai bagian yang bersangkutan.\n",
        "\n",
        "6. Menghapus Data yang Sudah Diproses\n",
        "```\n",
        "index_to_drop = data_filtered.index\n",
        "df = df.drop(index_to_drop)\n",
        "```\n",
        "Data yang sudah diproses dan disimpan di Excel akan dihapus dari DataFrame df untuk memastikan tidak ada duplikasi saat iterasi berikutnya.\n",
        "\n",
        "7. Error Handling\n",
        "```\n",
        "except Exception as e:\n",
        "    print(f\"Gagal menambahkan sheet baru ke {bagian}!\")\n",
        "    print(f\"Error: {e}\")\n",
        "```\n",
        "Jika terjadi kesalahan, program akan mencetak pesan error dan nama bagian yang gagal diproses.\n",
        "\n",
        "**Fungsi Script Secara Keseluruhan**\n",
        "* Mengunggah data mentah ke Google Colab.\n",
        "* Memproses data berdasarkan kriteria tertentu.\n",
        "* Membagi data menjadi file Excel yang berbeda sesuai kategori atau bagian.\n",
        "* Menghindari duplikasi data dengan menghapus data yang sudah diproses dari DataFrame.\n",
        "* Menangani error jika terjadi kesalahan dalam menyimpan data ke file Excel."
      ],
      "metadata": {
        "id": "VkzshuItvCHU"
      }
    },
    {
      "cell_type": "code",
      "source": [
        "df"
      ],
      "metadata": {
        "id": "VnVNcHJO-IX0"
      },
      "execution_count": null,
      "outputs": []
    }
  ]
}